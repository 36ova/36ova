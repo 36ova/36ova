{
  "cells": [
    {
      "cell_type": "markdown",
      "metadata": {
        "id": "V5j9Sp-_AuBY"
      },
      "source": [
        "# <a href=\"https://mipt-stats.gitlab.io/courses/ad_fivt.html\">Введение в анализ данных</a>"
      ]
    },
    {
      "cell_type": "markdown",
      "metadata": {
        "id": "LNNx55q2Ay5I"
      },
      "source": [
        "В данном ноутбуке мы быстро повторим основы библиотек Python для анализа данных. Если вы захотите более подробно разобраться в каком-то их разделов, смотрите Питон-ноутбуки и видеолекции на нашем сайте в разделе <a href=\"https://mipt-stats.gitlab.io/courses/python.html\">Python для анализа данных</a>."
      ]
    },
    {
      "cell_type": "markdown",
      "metadata": {
        "id": "52VfdBf3ETQW"
      },
      "source": [
        "## 1. Anaconda"
      ]
    },
    {
      "cell_type": "markdown",
      "metadata": {
        "id": "osO99cp7GFMw"
      },
      "source": [
        "Anaconda — это дистрибутив Python, в который встроен пакетный менеджер `conda`. Этот инструмент позволяет выделить отдельные окружения для ваших проектов, например, на Python или R. В каждом конкретном окружении будут свои версии языков программирования и библиотек. Это позволит не запутаться в том, какие версии библиотек у вас установлены, а таже даст вам возможность переносить окружения."
      ]
    },
    {
      "cell_type": "markdown",
      "metadata": {
        "id": "9L7MAHbUFJwz"
      },
      "source": [
        "Установку можете произвести с <a href=\"https://www.anaconda.com/distribution/\">официального сайта</a>."
      ]
    },
    {
      "cell_type": "markdown",
      "metadata": {
        "id": "jv_bpSS9FdhX"
      },
      "source": [
        "Пример создания окружения `mipt-stats`:\n",
        "\n",
        "```bash\n",
        "conda create -n mipt-stats python=3.7 r=3.6 --yes\n",
        "```\n",
        "\n",
        "Активация и деактивация:\n",
        "\n",
        "```bash\n",
        "conda activate mipt-stats\n",
        "conda deactivate\n",
        "```\n",
        "\n",
        "Чтобы поставить пакеты, используйте команду `conda install`:\n",
        "\n",
        "```bash\n",
        "conda install numpy\n",
        "```\n",
        "\n",
        "Чтобы понять, как работать с Anaconda оптимальнее, смотрите <a href=\"https://mipt-stats.gitlab.io/courses/python/01_anaconda.html\">полную версию материала</a>."
      ]
    },
    {
      "cell_type": "markdown",
      "metadata": {
        "id": "9jcX2nQqepBS"
      },
      "source": [
        "#### 1.1 Альтернативы\n",
        "\n",
        "* Если вы используете Linux-систему, то чаще проще обойтись без Anaconda, а использовать `pip`, например, \n",
        "```bash\n",
        "pip install numpy\n",
        "```\n",
        "В таком случае тоже можно настроить виртуальное окружение. Однако не стоит смешивать использование `pip` и `conda`!\n",
        "\n",
        "* Если вы не хотите ничего себе устанавливать, например, из-за малых мощностей, можно использовать <a href=\"https://colab.research.google.com/\">Google Colab</a>. Но в таком случае каждый раз придется заново настраивать окружение, кроме того, среда выполнения может отключаться при длительном простое."
      ]
    },
    {
      "cell_type": "markdown",
      "metadata": {
        "id": "1WUoq9ltGHwb"
      },
      "source": [
        "## 2. Jupyter"
      ]
    },
    {
      "cell_type": "markdown",
      "metadata": {
        "id": "QzniJnUqGMSi"
      },
      "source": [
        "Jupyter предоставляет веб-интерфейс для редактирования jupyter-ноутбуков. Это удобный инструмент для того, чтобы быстро писать код на Python (или других языках), проверять гипотезы, строить графики, делать интерактивные визуализации и делиться результатами с коллегами.\n",
        "\n",
        "Чтобы запустить интерфейс, поставьте в `conda` пакет `jupyter` и выполните в консоли команду\n",
        "\n",
        "```bash\n",
        "jupyter notebook\n",
        "```"
      ]
    },
    {
      "cell_type": "markdown",
      "metadata": {
        "id": "MMglPXW_Gj-0"
      },
      "source": [
        "Jupyter-ноутбук состоит из ячеек с кодом, с markdown, а также с сырым текстом. Работать с ячейкой можно в двух режимах: Command Mode и Edit Mode. Чтобы переходить между ними, используйте `Esc` и `Enter`.\n",
        "\n",
        "В Edit Mode управление похоже на `vim`, справку по Command Mode можно посмотреть с помощью сочетания клавиш `Esc + H`."
      ]
    },
    {
      "cell_type": "markdown",
      "metadata": {
        "id": "3EYLSznTH5mq"
      },
      "source": [
        "При написании кода, кроме функций языка программирования, можно пользоваться магией Юпитера, или jupyter magics. Это отдельный метаязык внутри jupyter, команды которого начинаются на `%`. Можете открыть список всех доступных команд:"
      ]
    },
    {
      "cell_type": "code",
      "execution_count": 1,
      "metadata": {
        "ExecuteTime": {
          "end_time": "2022-02-05T16:41:47.557680Z",
          "start_time": "2022-02-05T16:41:47.544562Z"
        },
        "colab": {
          "base_uri": "https://localhost:8080/",
          "height": 165
        },
        "id": "EYq8SBvCEhXK",
        "outputId": "105eb4d0-ab46-424c-ff04-95cc82b2c151"
      },
      "outputs": [
        {
          "output_type": "execute_result",
          "data": {
            "application/json": {
              "cell": {
                "prun": "ExecutionMagics",
                "file": "Other",
                "!": "OSMagics",
                "capture": "ExecutionMagics",
                "timeit": "ExecutionMagics",
                "script": "ScriptMagics",
                "pypy": "Other",
                "system": "OSMagics",
                "perl": "Other",
                "html": "DisplayMagics",
                "bash": "Other",
                "shell": "Other",
                "HTML": "Other",
                "python": "Other",
                "SVG": "Other",
                "javascript": "DisplayMagics",
                "bigquery": "Other",
                "js": "DisplayMagics",
                "writefile": "OSMagics",
                "ruby": "Other",
                "python3": "Other",
                "python2": "Other",
                "latex": "DisplayMagics",
                "sx": "OSMagics",
                "svg": "DisplayMagics",
                "sh": "Other",
                "time": "ExecutionMagics",
                "debug": "ExecutionMagics"
              },
              "line": {
                "psource": "NamespaceMagics",
                "logstart": "LoggingMagics",
                "popd": "OSMagics",
                "tensorflow_version": "Other",
                "loadpy": "CodeMagics",
                "colors": "BasicMagics",
                "who_ls": "NamespaceMagics",
                "lf": "Other",
                "ll": "Other",
                "pprint": "BasicMagics",
                "lk": "Other",
                "ls": "Other",
                "save": "CodeMagics",
                "tb": "ExecutionMagics",
                "lx": "Other",
                "pylab": "PylabMagics",
                "killbgscripts": "ScriptMagics",
                "quickref": "BasicMagics",
                "magic": "BasicMagics",
                "dhist": "OSMagics",
                "edit": "KernelMagics",
                "logstop": "LoggingMagics",
                "gui": "BasicMagics",
                "prun": "ExecutionMagics",
                "debug": "ExecutionMagics",
                "page": "BasicMagics",
                "logstate": "LoggingMagics",
                "ed": "Other",
                "pushd": "OSMagics",
                "timeit": "ExecutionMagics",
                "set_env": "OSMagics",
                "rehashx": "OSMagics",
                "hist": "Other",
                "qtconsole": "KernelMagics",
                "rm": "Other",
                "dirs": "OSMagics",
                "run": "ExecutionMagics",
                "reset_selective": "NamespaceMagics",
                "pinfo2": "NamespaceMagics",
                "matplotlib": "PylabMagics",
                "unload_ext": "ExtensionMagics",
                "doctest_mode": "BasicMagics",
                "logoff": "LoggingMagics",
                "reload_ext": "ExtensionMagics",
                "pdb": "ExecutionMagics",
                "load": "CodeMagics",
                "lsmagic": "BasicMagics",
                "autosave": "KernelMagics",
                "cd": "OSMagics",
                "pastebin": "CodeMagics",
                "alias_magic": "BasicMagics",
                "cp": "Other",
                "autocall": "AutoMagics",
                "ldir": "Other",
                "bookmark": "OSMagics",
                "connect_info": "KernelMagics",
                "mkdir": "Other",
                "system": "OSMagics",
                "whos": "NamespaceMagics",
                "rmdir": "Other",
                "automagic": "AutoMagics",
                "store": "StoreMagics",
                "more": "KernelMagics",
                "shell": "Other",
                "pdef": "NamespaceMagics",
                "precision": "BasicMagics",
                "pinfo": "NamespaceMagics",
                "pwd": "OSMagics",
                "psearch": "NamespaceMagics",
                "reset": "NamespaceMagics",
                "recall": "HistoryMagics",
                "xdel": "NamespaceMagics",
                "xmode": "BasicMagics",
                "cat": "Other",
                "mv": "Other",
                "rerun": "HistoryMagics",
                "logon": "LoggingMagics",
                "history": "HistoryMagics",
                "pycat": "OSMagics",
                "pip": "Other",
                "unalias": "OSMagics",
                "env": "OSMagics",
                "load_ext": "ExtensionMagics",
                "config": "ConfigMagics",
                "profile": "BasicMagics",
                "pfile": "NamespaceMagics",
                "less": "KernelMagics",
                "who": "NamespaceMagics",
                "notebook": "BasicMagics",
                "man": "KernelMagics",
                "sx": "OSMagics",
                "macro": "ExecutionMagics",
                "clear": "KernelMagics",
                "alias": "OSMagics",
                "time": "ExecutionMagics",
                "sc": "OSMagics",
                "rep": "Other",
                "pdoc": "NamespaceMagics"
              }
            },
            "text/plain": [
              "Available line magics:\n",
              "%alias  %alias_magic  %autocall  %automagic  %autosave  %bookmark  %cat  %cd  %clear  %colors  %config  %connect_info  %cp  %debug  %dhist  %dirs  %doctest_mode  %ed  %edit  %env  %gui  %hist  %history  %killbgscripts  %ldir  %less  %lf  %lk  %ll  %load  %load_ext  %loadpy  %logoff  %logon  %logstart  %logstate  %logstop  %ls  %lsmagic  %lx  %macro  %magic  %man  %matplotlib  %mkdir  %more  %mv  %notebook  %page  %pastebin  %pdb  %pdef  %pdoc  %pfile  %pinfo  %pinfo2  %pip  %popd  %pprint  %precision  %profile  %prun  %psearch  %psource  %pushd  %pwd  %pycat  %pylab  %qtconsole  %quickref  %recall  %rehashx  %reload_ext  %rep  %rerun  %reset  %reset_selective  %rm  %rmdir  %run  %save  %sc  %set_env  %shell  %store  %sx  %system  %tb  %tensorflow_version  %time  %timeit  %unalias  %unload_ext  %who  %who_ls  %whos  %xdel  %xmode\n",
              "\n",
              "Available cell magics:\n",
              "%%!  %%HTML  %%SVG  %%bash  %%bigquery  %%capture  %%debug  %%file  %%html  %%javascript  %%js  %%latex  %%perl  %%prun  %%pypy  %%python  %%python2  %%python3  %%ruby  %%script  %%sh  %%shell  %%svg  %%sx  %%system  %%time  %%timeit  %%writefile\n",
              "\n",
              "Automagic is ON, % prefix IS NOT needed for line magics."
            ]
          },
          "metadata": {},
          "execution_count": 1
        }
      ],
      "source": [
        "%lsmagic"
      ]
    },
    {
      "cell_type": "markdown",
      "metadata": {
        "id": "6VoGJHYMIeBI"
      },
      "source": [
        "Есть magics, которые применяются к строке или всей клетке в целом. Чтобы посмотреть помощь по интересующей команде, можно вызвать help:"
      ]
    },
    {
      "cell_type": "code",
      "execution_count": 2,
      "metadata": {
        "ExecuteTime": {
          "end_time": "2022-02-05T16:42:44.653143Z",
          "start_time": "2022-02-05T16:42:44.647194Z"
        },
        "id": "ttziyCHgIYo7"
      },
      "outputs": [],
      "source": [
        "?%lsmagic"
      ]
    },
    {
      "cell_type": "markdown",
      "metadata": {
        "id": "PgZBhEH_JCmQ"
      },
      "source": [
        "Впоследствии увидим, как можно замерить производительность вашей программы при помощи `%%time`.\n",
        "\n",
        "Если хотите посмотреть подробный обзор jupyter magic, узнать о преимуществах Jupyter, узнать полезные сочетания клавиш и установить удобные плагины, обращайтесь к <a href=\"https://mipt-stats.gitlab.io/courses/python/02_jupyter.html\">полным материалам по Jupyter</a>."
      ]
    },
    {
      "cell_type": "markdown",
      "metadata": {
        "id": "8jf-rT54JPJ0"
      },
      "source": [
        "## 3. NumPy\n",
        "\n",
        "В пакете  NumPy представлены удобные функции для работы c $n$-мерными массивами. В нём имеются функции для поэлементных операций, а также для работы с массивами, как с математическими объектами, например, функции для линейной алгебры.\n",
        "\n",
        "Они реализованы на C++, поэтому гораздо эффективнее аналогичных реализаций на Python."
      ]
    },
    {
      "cell_type": "code",
      "execution_count": null,
      "metadata": {
        "ExecuteTime": {
          "end_time": "2022-02-05T16:43:59.932724Z",
          "start_time": "2022-02-05T16:43:59.929773Z"
        },
        "id": "ebOBsACXKTMh"
      },
      "outputs": [],
      "source": [
        "import numpy as np"
      ]
    },
    {
      "cell_type": "markdown",
      "metadata": {
        "id": "JPsVV55aKLWm"
      },
      "source": [
        "### 3.1 Основы"
      ]
    },
    {
      "cell_type": "markdown",
      "metadata": {
        "id": "cHSb3tFxKkQc"
      },
      "source": [
        "Создавать массивы можно различными способами."
      ]
    },
    {
      "cell_type": "code",
      "execution_count": null,
      "metadata": {
        "ExecuteTime": {
          "end_time": "2022-02-05T16:44:04.916202Z",
          "start_time": "2022-02-05T16:44:04.904402Z"
        },
        "id": "FDfKIAL2KFnI"
      },
      "outputs": [],
      "source": [
        "# Из списка\n",
        "a = np.array([0, 2, 1])\n",
        "\n",
        "# Из равномерной сетки\n",
        "grid = np.linspace(0, 1, 500)\n",
        "\n",
        "# Перечисление 0, 1, 2, 3, 4\n",
        "nat_grid = np.arange(5)\n",
        "\n",
        "# Заполненный нулями\n",
        "zeros = np.zeros((1, 2, 3))"
      ]
    },
    {
      "cell_type": "markdown",
      "metadata": {
        "id": "inw-Bm6ZK9x9"
      },
      "source": [
        "У массивов можно узнать их размерность, форму и число элементов"
      ]
    },
    {
      "cell_type": "code",
      "execution_count": null,
      "metadata": {
        "ExecuteTime": {
          "end_time": "2022-02-05T16:44:59.892403Z",
          "start_time": "2022-02-05T16:44:59.883439Z"
        },
        "colab": {
          "base_uri": "https://localhost:8080/"
        },
        "id": "AUQKm1cIK10f",
        "outputId": "47c8b223-3c0d-4e5c-c517-9e789083138b"
      },
      "outputs": [
        {
          "name": "stdout",
          "output_type": "stream",
          "text": [
            "3 (1, 2, 3) 6\n"
          ]
        }
      ],
      "source": [
        "print(zeros.ndim, zeros.shape, zeros.size)"
      ]
    },
    {
      "cell_type": "markdown",
      "metadata": {
        "id": "mlyXWmXLLNuy"
      },
      "source": [
        "Индексация похожа на индексацию списков"
      ]
    },
    {
      "cell_type": "code",
      "execution_count": null,
      "metadata": {
        "ExecuteTime": {
          "end_time": "2022-02-05T16:45:10.554698Z",
          "start_time": "2022-02-05T16:45:10.528878Z"
        },
        "colab": {
          "base_uri": "https://localhost:8080/"
        },
        "id": "dAIIfCgMLJLe",
        "outputId": "9cdbf80a-4430-4f3d-b335-94c95e843bbb"
      },
      "outputs": [
        {
          "name": "stdout",
          "output_type": "stream",
          "text": [
            "[1]\n",
            "[0.         0.2004008  0.4008016  0.6012024  0.80160321]\n",
            "[[[0. 0.]\n",
            "  [0. 0.]]]\n"
          ]
        }
      ],
      "source": [
        "print(a[2:1:-1])\n",
        "print(grid[::100])\n",
        "print(zeros[:, :2, :2])"
      ]
    },
    {
      "cell_type": "markdown",
      "metadata": {
        "id": "Tpr3q5AfepBe"
      },
      "source": [
        "### 3.2 Соединение массивов и их форма"
      ]
    },
    {
      "cell_type": "markdown",
      "metadata": {
        "id": "GN7U9vsrepBf"
      },
      "source": [
        "Из одномерного массива можно сделать двумерный, указав необходимую форму."
      ]
    },
    {
      "cell_type": "code",
      "execution_count": null,
      "metadata": {
        "ExecuteTime": {
          "end_time": "2022-02-05T16:45:29.675721Z",
          "start_time": "2022-02-05T16:45:29.657395Z"
        },
        "id": "eLHVdqAgepBf",
        "outputId": "af08c21c-3627-468c-80d0-72ce9d4f1220"
      },
      "outputs": [
        {
          "data": {
            "text/plain": [
              "array([[0, 1, 2],\n",
              "       [3, 4, 5]])"
            ]
          },
          "execution_count": 42,
          "metadata": {},
          "output_type": "execute_result"
        }
      ],
      "source": [
        "A = np.arange(6).reshape((2, 3))\n",
        "A"
      ]
    },
    {
      "cell_type": "markdown",
      "metadata": {
        "id": "c7RHQQ1iepBf"
      },
      "source": [
        "Два массива можно склеить горизонтально"
      ]
    },
    {
      "cell_type": "code",
      "execution_count": null,
      "metadata": {
        "ExecuteTime": {
          "end_time": "2022-02-05T16:46:00.620799Z",
          "start_time": "2022-02-05T16:46:00.606872Z"
        },
        "id": "n5T3fnbjepBg",
        "outputId": "0f3f3612-6407-4f7c-ccfc-344dd857a261"
      },
      "outputs": [
        {
          "data": {
            "text/plain": [
              "array([[0., 1., 2., 0., 0., 0., 0., 0.],\n",
              "       [3., 4., 5., 0., 0., 0., 0., 0.]])"
            ]
          },
          "execution_count": 43,
          "metadata": {},
          "output_type": "execute_result"
        }
      ],
      "source": [
        "B = np.zeros((2, 5))\n",
        "np.hstack([A, B])"
      ]
    },
    {
      "cell_type": "markdown",
      "metadata": {
        "id": "mnBH5A_RepBg"
      },
      "source": [
        "и вертикально"
      ]
    },
    {
      "cell_type": "code",
      "execution_count": null,
      "metadata": {
        "ExecuteTime": {
          "end_time": "2022-02-05T16:46:12.471976Z",
          "start_time": "2022-02-05T16:46:12.466361Z"
        },
        "id": "Wuqu8u4XepBg",
        "outputId": "71364778-9fb9-475b-92c9-8a8eb872f567"
      },
      "outputs": [
        {
          "data": {
            "text/plain": [
              "array([[0., 1., 2.],\n",
              "       [3., 4., 5.],\n",
              "       [0., 0., 0.]])"
            ]
          },
          "execution_count": 44,
          "metadata": {},
          "output_type": "execute_result"
        }
      ],
      "source": [
        "B = np.zeros((1, 3))\n",
        "np.vstack([A, B])"
      ]
    },
    {
      "cell_type": "markdown",
      "metadata": {
        "id": "54Net2IZLt7j"
      },
      "source": [
        "### 3.3 Операции над массивами"
      ]
    },
    {
      "cell_type": "markdown",
      "metadata": {
        "id": "nCwAns45L5SZ"
      },
      "source": [
        "Обычные арифметические операции работают поэлементно."
      ]
    },
    {
      "cell_type": "code",
      "execution_count": null,
      "metadata": {
        "ExecuteTime": {
          "end_time": "2022-02-05T16:46:35.485486Z",
          "start_time": "2022-02-05T16:46:35.479878Z"
        },
        "id": "9vUmMvdgL9Jt"
      },
      "outputs": [],
      "source": [
        "a = np.array([1, 2, 3])\n",
        "b = np.array([3, 4, 5])"
      ]
    },
    {
      "cell_type": "code",
      "execution_count": null,
      "metadata": {
        "ExecuteTime": {
          "end_time": "2022-02-05T16:46:38.235095Z",
          "start_time": "2022-02-05T16:46:38.229734Z"
        },
        "colab": {
          "base_uri": "https://localhost:8080/"
        },
        "id": "8KGU9AvaMEQu",
        "outputId": "d9bd71bd-29f0-4945-ed53-ee9a00c021d2"
      },
      "outputs": [
        {
          "name": "stdout",
          "output_type": "stream",
          "text": [
            "[ 3  8 15]\n"
          ]
        }
      ],
      "source": [
        "print(a * b)"
      ]
    },
    {
      "cell_type": "code",
      "execution_count": null,
      "metadata": {
        "ExecuteTime": {
          "end_time": "2022-02-05T16:46:40.647454Z",
          "start_time": "2022-02-05T16:46:40.641171Z"
        },
        "colab": {
          "base_uri": "https://localhost:8080/"
        },
        "id": "SfXEDQbvMFKg",
        "outputId": "d6b3f27a-017c-4c23-8f0b-bc6564c912ba"
      },
      "outputs": [
        {
          "name": "stdout",
          "output_type": "stream",
          "text": [
            "[0.84147098 0.90929743 0.14112001]\n"
          ]
        }
      ],
      "source": [
        "print(np.sin(a))"
      ]
    },
    {
      "cell_type": "markdown",
      "metadata": {
        "id": "IaT4_734Mkoq"
      },
      "source": [
        "Двумерный массив можно умножить на одномерный, как матрицу на вектор. Операция `@` реализует матричное умножение"
      ]
    },
    {
      "cell_type": "code",
      "execution_count": null,
      "metadata": {
        "ExecuteTime": {
          "end_time": "2022-02-05T16:47:36.466334Z",
          "start_time": "2022-02-05T16:47:36.448471Z"
        },
        "colab": {
          "base_uri": "https://localhost:8080/"
        },
        "id": "lAWCzY6mMqIJ",
        "outputId": "1f75242e-6b9c-4123-86a4-f94323121b40"
      },
      "outputs": [
        {
          "data": {
            "text/plain": [
              "array([3., 3.])"
            ]
          },
          "execution_count": 48,
          "metadata": {},
          "output_type": "execute_result"
        }
      ],
      "source": [
        "A = np.ones((2, 3))\n",
        "b = np.ones(3)\n",
        "A @ b"
      ]
    },
    {
      "cell_type": "markdown",
      "metadata": {
        "id": "0a88XRZ-epBj"
      },
      "source": [
        "Транспонировать матрицу можно с помощью метода `T`"
      ]
    },
    {
      "cell_type": "code",
      "execution_count": null,
      "metadata": {
        "ExecuteTime": {
          "end_time": "2022-02-05T16:47:49.114052Z",
          "start_time": "2022-02-05T16:47:49.110645Z"
        },
        "id": "9eC-ZZvaepBj",
        "outputId": "52bece8f-a008-44c2-dfaa-18daf64c3dd0"
      },
      "outputs": [
        {
          "data": {
            "text/plain": [
              "(3, 2)"
            ]
          },
          "execution_count": 49,
          "metadata": {},
          "output_type": "execute_result"
        }
      ],
      "source": [
        "A.T.shape"
      ]
    },
    {
      "cell_type": "markdown",
      "metadata": {
        "id": "bI7CUDHzNQR4"
      },
      "source": [
        "### 3.4 Способы суммирования"
      ]
    },
    {
      "cell_type": "markdown",
      "metadata": {
        "id": "yevRkb0XNYfU"
      },
      "source": [
        "Простое суммирование возвращает сумму всех элементов массива."
      ]
    },
    {
      "cell_type": "code",
      "execution_count": null,
      "metadata": {
        "ExecuteTime": {
          "end_time": "2022-02-05T16:49:22.537701Z",
          "start_time": "2022-02-05T16:49:22.524608Z"
        },
        "colab": {
          "base_uri": "https://localhost:8080/"
        },
        "id": "cK6TaPJyMOye",
        "outputId": "45dabb1a-26b3-49e9-b6a4-a7fd6671ae56"
      },
      "outputs": [
        {
          "name": "stdout",
          "output_type": "stream",
          "text": [
            "6\n",
            "6\n"
          ]
        }
      ],
      "source": [
        "print(np.sum(a))\n",
        "print(a.sum())"
      ]
    },
    {
      "cell_type": "markdown",
      "metadata": {
        "id": "dMCJmY_gMawi"
      },
      "source": [
        "С многомерными массивами суммирование может работать сложнее. Например, можно суммировать вдоль определённой оси и получать не одно число, а массив."
      ]
    },
    {
      "cell_type": "code",
      "execution_count": null,
      "metadata": {
        "ExecuteTime": {
          "end_time": "2022-02-05T16:49:30.511960Z",
          "start_time": "2022-02-05T16:49:30.504370Z"
        },
        "colab": {
          "base_uri": "https://localhost:8080/"
        },
        "id": "Pj87GqfMMVB7",
        "outputId": "d25b1ddb-00c2-4466-ccbb-bf09294de444"
      },
      "outputs": [
        {
          "name": "stdout",
          "output_type": "stream",
          "text": [
            "[4 4 4]\n",
            "[3 3 3 3]\n"
          ]
        }
      ],
      "source": [
        "a = np.ones((3, 4), dtype=int)\n",
        "print(a.sum(axis=1))\n",
        "print(a.sum(axis=0))"
      ]
    },
    {
      "cell_type": "markdown",
      "metadata": {
        "id": "uMhhwXS2N3Lt"
      },
      "source": [
        "Для более продвинутых способов суммирования существуют, например, суммы Эйнштейна."
      ]
    },
    {
      "cell_type": "code",
      "execution_count": null,
      "metadata": {
        "ExecuteTime": {
          "end_time": "2022-02-05T16:50:02.909430Z",
          "start_time": "2022-02-05T16:50:02.900231Z"
        },
        "colab": {
          "base_uri": "https://localhost:8080/"
        },
        "id": "bJ3A-iKoOpTa",
        "outputId": "3ea96c45-b5fe-460f-b987-e0f7a852310e"
      },
      "outputs": [
        {
          "name": "stdout",
          "output_type": "stream",
          "text": [
            "[0 1 2]\n",
            "[[ 10  15  20]\n",
            " [100 150 200]]\n"
          ]
        }
      ],
      "source": [
        "A = np.array([0, 1, 2])\n",
        "B = np.array([[10, 15, 20], [100, 150, 200]])\n",
        "print(A)\n",
        "print(B)"
      ]
    },
    {
      "cell_type": "code",
      "execution_count": null,
      "metadata": {
        "ExecuteTime": {
          "end_time": "2022-02-05T16:50:05.312267Z",
          "start_time": "2022-02-05T16:50:05.301426Z"
        },
        "colab": {
          "base_uri": "https://localhost:8080/"
        },
        "id": "C3VAEvpXOp15",
        "outputId": "5d13cc20-8ccb-417c-a5d9-def6ad99778b"
      },
      "outputs": [
        {
          "data": {
            "text/plain": [
              "array([ 55, 550])"
            ]
          },
          "execution_count": 54,
          "metadata": {},
          "output_type": "execute_result"
        }
      ],
      "source": [
        "np.einsum('i,ji->j', A, B)"
      ]
    },
    {
      "cell_type": "markdown",
      "metadata": {
        "id": "BJFJ50rDO3wp"
      },
      "source": [
        "В данном случае индексы суммирования приводят к такому вычислению:\n",
        "\n",
        "* $c_0 = a_0 \\cdot b^0_0 + a_1 \\cdot b^1_0 + a_2 \\cdot b^2_0$. В нашем случае: $c_0 = 0 \\cdot 1 + 1 \\cdot 15 + 2 \\cdot 20$.\n",
        "* $c_1 = a_0 \\cdot b^0_1 + a_1 \\cdot b^1_1 + a_2 \\cdot b^2_1$. В нашем случае: $c_1 = 0 \\cdot 1 + 1 \\cdot 150 + 2 \\cdot 200$.\n",
        "\n",
        "Чтобы подробно разобраться в синтаксисе, посмотрите <a href=\"https://mipt-stats.gitlab.io/courses/python/05_numpy.html\">полный материал</a>."
      ]
    },
    {
      "cell_type": "markdown",
      "metadata": {
        "id": "Uw0P1HezepBn"
      },
      "source": [
        "### 3.5 Бродкастинг"
      ]
    },
    {
      "cell_type": "markdown",
      "metadata": {
        "id": "-OIll26AepBn"
      },
      "source": [
        "Broadcasting &mdash; процедура обработки массивов с различными формами во время арифметических операций. При соблюдении определенных ограничений меньший массив приводится к форме по большему массиву.\n",
        "\n",
        "Рассмотрим поэлементное умножение двух массивов одинаковой формы"
      ]
    },
    {
      "cell_type": "code",
      "execution_count": null,
      "metadata": {
        "ExecuteTime": {
          "end_time": "2022-02-05T16:50:59.730009Z",
          "start_time": "2022-02-05T16:50:59.718964Z"
        },
        "id": "CfwVhqFuepBn",
        "outputId": "c21ca4a3-e404-4bd8-f2d6-f0d5580d481e"
      },
      "outputs": [
        {
          "data": {
            "text/plain": [
              "array([2., 4., 6.])"
            ]
          },
          "execution_count": 55,
          "metadata": {},
          "output_type": "execute_result"
        }
      ],
      "source": [
        "a = np.array([1.0, 2.0, 3.0])\n",
        "b = np.array([2.0, 2.0, 2.0])\n",
        "a * b"
      ]
    },
    {
      "cell_type": "markdown",
      "metadata": {
        "id": "QZmkkeqoepBo"
      },
      "source": [
        "А теперь массивы разной формы"
      ]
    },
    {
      "cell_type": "code",
      "execution_count": null,
      "metadata": {
        "ExecuteTime": {
          "end_time": "2022-02-05T16:51:25.747586Z",
          "start_time": "2022-02-05T16:51:25.738285Z"
        },
        "id": "r13FkwXQepBo",
        "outputId": "111ad3ce-6a1d-4eeb-8d3d-79acff3d8f60"
      },
      "outputs": [
        {
          "data": {
            "text/plain": [
              "array([2., 4., 6.])"
            ]
          },
          "execution_count": 56,
          "metadata": {},
          "output_type": "execute_result"
        }
      ],
      "source": [
        "a = np.array([1.0, 2.0, 3.0])\n",
        "b = 2.0\n",
        "a * b"
      ]
    },
    {
      "cell_type": "markdown",
      "metadata": {
        "id": "FDySVga2epBo"
      },
      "source": [
        "Результат получился тем же, поскольку в данном случае произошло растяжение массива `b` до размеров массива `a` с помощью дублирования элементов массива `b`.\n",
        "\n",
        "*Примечание.* Термин \"растяжение\" используется лишь для понимания. Операции реализуются более \"умным\" способом без лишнего копирования элементов.\n",
        "\n",
        "**Правило бродкастинга**\n",
        "\n",
        "При работе с двумя массивами numpy сравнивает их формы начиная с крайних правых размерностей. Два измерения совместимы, если\n",
        "* они равны или\n",
        "* одна из них равна 1.\n",
        "Если эти условия не выполняются, возникает `ValueError`.\n",
        "\n",
        "Посмотрим еще на пример"
      ]
    },
    {
      "cell_type": "code",
      "execution_count": null,
      "metadata": {
        "ExecuteTime": {
          "end_time": "2022-02-05T16:53:17.965576Z",
          "start_time": "2022-02-05T16:53:17.953483Z"
        },
        "id": "aH8Wvh_GepBp",
        "outputId": "9fedefe2-f708-457c-f6af-6902a4fc17f3"
      },
      "outputs": [
        {
          "data": {
            "text/plain": [
              "array([[ 1.,  2.,  3.],\n",
              "       [11., 12., 13.],\n",
              "       [21., 22., 23.],\n",
              "       [31., 32., 33.]])"
            ]
          },
          "execution_count": 57,
          "metadata": {},
          "output_type": "execute_result"
        }
      ],
      "source": [
        "a = np.array([[ 0.0,  0.0,  0.0],\n",
        "           [10.0, 10.0, 10.0],\n",
        "           [20.0, 20.0, 20.0],\n",
        "           [30.0, 30.0, 30.0]])\n",
        "b = np.array([1.0, 2.0, 3.0])\n",
        "a + b"
      ]
    },
    {
      "cell_type": "markdown",
      "metadata": {
        "id": "12VG2GRmepBp"
      },
      "source": [
        "Растяжение в данном случае произошло следующим образом\n",
        "![broadcasting_2.png](attachment:broadcasting_2.png)\n",
        "\n",
        "А если размеры будут не совместимы, то произойдет ошибка\n",
        "![broadcasting_3.png](attachment:broadcasting_3.png)"
      ]
    },
    {
      "cell_type": "code",
      "execution_count": null,
      "metadata": {
        "ExecuteTime": {
          "end_time": "2022-02-05T16:53:43.876928Z",
          "start_time": "2022-02-05T16:53:43.853864Z"
        },
        "id": "PJdie0qFepBp",
        "outputId": "f5e2f6c2-d4f9-44af-b2e8-07c0bf52c278"
      },
      "outputs": [
        {
          "ename": "ValueError",
          "evalue": "operands could not be broadcast together with shapes (4,3) (4,) ",
          "output_type": "error",
          "traceback": [
            "\u001b[0;31m---------------------------------------------------------------------------\u001b[0m",
            "\u001b[0;31mValueError\u001b[0m                                Traceback (most recent call last)",
            "\u001b[0;32m<ipython-input-58-a441300a98f7>\u001b[0m in \u001b[0;36m<module>\u001b[0;34m\u001b[0m\n\u001b[1;32m      1\u001b[0m \u001b[0mb\u001b[0m \u001b[0;34m=\u001b[0m \u001b[0mnp\u001b[0m\u001b[0;34m.\u001b[0m\u001b[0marray\u001b[0m\u001b[0;34m(\u001b[0m\u001b[0;34m[\u001b[0m\u001b[0;36m1.0\u001b[0m\u001b[0;34m,\u001b[0m \u001b[0;36m2.0\u001b[0m\u001b[0;34m,\u001b[0m \u001b[0;36m3.0\u001b[0m\u001b[0;34m,\u001b[0m \u001b[0;36m4.0\u001b[0m\u001b[0;34m]\u001b[0m\u001b[0;34m)\u001b[0m\u001b[0;34m\u001b[0m\u001b[0;34m\u001b[0m\u001b[0m\n\u001b[0;32m----> 2\u001b[0;31m \u001b[0ma\u001b[0m \u001b[0;34m+\u001b[0m \u001b[0mb\u001b[0m\u001b[0;34m\u001b[0m\u001b[0;34m\u001b[0m\u001b[0m\n\u001b[0m",
            "\u001b[0;31mValueError\u001b[0m: operands could not be broadcast together with shapes (4,3) (4,) "
          ]
        }
      ],
      "source": [
        "b = np.array([1.0, 2.0, 3.0, 4.0])\n",
        "a + b"
      ]
    },
    {
      "cell_type": "markdown",
      "metadata": {
        "id": "yOgoEkMFepBq"
      },
      "source": [
        "Если массивы имеют несовместимый размер, можно их сначала привести к одной форме"
      ]
    },
    {
      "cell_type": "code",
      "execution_count": null,
      "metadata": {
        "ExecuteTime": {
          "end_time": "2022-02-05T16:54:28.104427Z",
          "start_time": "2022-02-05T16:54:28.093237Z"
        },
        "id": "tFSMmOazepBq",
        "outputId": "9c357f02-d8e1-48d5-8103-8ed6a418c7d6"
      },
      "outputs": [
        {
          "data": {
            "text/plain": [
              "array([[ 1.,  2.,  3.],\n",
              "       [11., 12., 13.],\n",
              "       [21., 22., 23.],\n",
              "       [31., 32., 33.]])"
            ]
          },
          "execution_count": 59,
          "metadata": {},
          "output_type": "execute_result"
        }
      ],
      "source": [
        "a = np.array([0.0, 10.0, 20.0, 30.0])\n",
        "b = np.array([1.0, 2.0, 3.0])\n",
        "a.reshape((-1, 1)) + b"
      ]
    },
    {
      "cell_type": "markdown",
      "metadata": {
        "id": "S49ou8OoepBq"
      },
      "source": [
        "Соответствующее растяжение\n",
        "![broadcasting_4.png](attachment:broadcasting_4.png)"
      ]
    },
    {
      "cell_type": "markdown",
      "metadata": {
        "id": "Je7i5xbZQ1Qs"
      },
      "source": [
        "## 4. Matplotlib\n",
        "\n",
        "Модуль `matplotlib` — одно из популярных средств для построения графиков. При использовании `matplotlib` не забудьте написать `%matplotlib inline` для того, чтобы графики отображались в вашем окне браузера.\n",
        "\n",
        "Начнём с построения простых графиков."
      ]
    },
    {
      "cell_type": "code",
      "execution_count": null,
      "metadata": {
        "ExecuteTime": {
          "end_time": "2022-02-05T16:55:01.606917Z",
          "start_time": "2022-02-05T16:55:01.596542Z"
        },
        "id": "-cJHKLhMR6M1"
      },
      "outputs": [],
      "source": [
        "import numpy as np\n",
        "import matplotlib.pyplot as plt\n",
        "from mpl_toolkits.mplot3d import Axes3D\n",
        "\n",
        "%matplotlib inline"
      ]
    },
    {
      "cell_type": "markdown",
      "metadata": {
        "id": "gCCVxo8YSSpU"
      },
      "source": [
        "График, соединяющий точки, строится с помощью `plt.plot`. Передаём список $x$ и $y$. Если не хотите соединять точки, используйте `plt.scatter`."
      ]
    },
    {
      "cell_type": "code",
      "execution_count": null,
      "metadata": {
        "ExecuteTime": {
          "end_time": "2022-02-05T16:55:04.366698Z",
          "start_time": "2022-02-05T16:55:04.226966Z"
        },
        "colab": {
          "base_uri": "https://localhost:8080/",
          "height": 265
        },
        "id": "uazwp5-KSMtG",
        "outputId": "d2e1fa7f-572f-4b7d-b063-8856a502bc31"
      },
      "outputs": [
        {
          "data": {
            "image/png": "[encoded data removed]",
            "text/plain": [
              "<Figure size 432x288 with 1 Axes>"
            ]
          },
          "metadata": {
            "needs_background": "light"
          },
          "output_type": "display_data"
        }
      ],
      "source": [
        "plt.figure()\n",
        "plt.plot([0, 0.25, 1], [0, 1, 0.5])\n",
        "plt.scatter([0.25, 0.75, 1], [0, 0.5, 1])\n",
        "plt.show()"
      ]
    },
    {
      "cell_type": "markdown",
      "metadata": {
        "id": "Be2Mk9Y-SyLR"
      },
      "source": [
        "Можно изображать несколько кривых, тогда они будут рисоваться разными цветами. Чтобы рисовать график функции, достаточно соединить много точек."
      ]
    },
    {
      "cell_type": "code",
      "execution_count": null,
      "metadata": {
        "ExecuteTime": {
          "end_time": "2022-02-05T16:55:20.672231Z",
          "start_time": "2022-02-05T16:55:20.520442Z"
        },
        "colab": {
          "base_uri": "https://localhost:8080/",
          "height": 265
        },
        "id": "HMvR7-CnSQLf",
        "outputId": "2c4df3ee-12a9-42d8-c5cb-288f6861f32a"
      },
      "outputs": [
        {
          "data": {
            "image/png": "[encoded data removed]",
            "text/plain": [
              "<Figure size 432x288 with 1 Axes>"
            ]
          },
          "metadata": {
            "needs_background": "light"
          },
          "output_type": "display_data"
        }
      ],
      "source": [
        "x = np.linspace(0, 2, 100)\n",
        "\n",
        "plt.figure()\n",
        "plt.plot(x, x)\n",
        "plt.plot(x, x**2)\n",
        "plt.plot(x, x**3)\n",
        "plt.show()"
      ]
    },
    {
      "cell_type": "markdown",
      "metadata": {
        "id": "34JMo4XzTGsc"
      },
      "source": [
        "На график можно добавить подписи, легенду, настроить цвета и стиль линий."
      ]
    },
    {
      "cell_type": "code",
      "execution_count": null,
      "metadata": {
        "ExecuteTime": {
          "end_time": "2022-02-05T16:55:35.924157Z",
          "start_time": "2022-02-05T16:55:35.669634Z"
        },
        "colab": {
          "base_uri": "https://localhost:8080/",
          "height": 513
        },
        "id": "xPG3wMIDTLdk",
        "outputId": "d32a94c1-b3eb-4eb8-f926-8fa3c4605144"
      },
      "outputs": [
        {
          "data": {
            "image/png": "[encoded data removed]",
            "text/plain": [
              "<Figure size 576x576 with 1 Axes>"
            ]
          },
          "metadata": {
            "needs_background": "light"
          },
          "output_type": "display_data"
        }
      ],
      "source": [
        "x = np.linspace(-2, 2, 100)\n",
        "\n",
        "plt.figure(figsize=(8, 8))\n",
        "plt.plot(x, x ** 2, linestyle='--', lw=3, \n",
        "         label='$y=x^2$', color='red')\n",
        "plt.xlabel('Ось X'), plt.ylabel('Ось Y')\n",
        "plt.legend(fontsize=15, loc=3)\n",
        "plt.title('Парабола')\n",
        "plt.grid(ls=':')\n",
        "plt.show()"
      ]
    },
    {
      "cell_type": "markdown",
      "metadata": {
        "id": "-ncNPwenepBt"
      },
      "source": [
        "Закрасить область между двумя кривыми $y=y(x)$ можно с помощью функции `plt.fill_between`, а между двумя кривыми вида $x = x(y)$ ---  с помощью функции `plt.fill_betweenx`.\n",
        "\n",
        "Горизонтальные линии можно нарисовать с помощью `plt.hlines`, а вертикальные --- с помощью `plt.vlines`."
      ]
    },
    {
      "cell_type": "code",
      "execution_count": null,
      "metadata": {
        "ExecuteTime": {
          "end_time": "2022-02-05T16:56:08.377624Z",
          "start_time": "2022-02-05T16:56:08.193905Z"
        },
        "scrolled": false,
        "id": "W-qifGlaepBt",
        "outputId": "b85f5d7d-4bbc-441c-d88a-29ea8171f248"
      },
      "outputs": [
        {
          "data": {
            "image/png": "[encoded data removed]",
            "text/plain": [
              "<Figure size 864x504 with 1 Axes>"
            ]
          },
          "metadata": {
            "needs_background": "light"
          },
          "output_type": "display_data"
        }
      ],
      "source": [
        "x = np.linspace(-10, 10, 100)\n",
        "\n",
        "plt.figure(figsize=(12, 7))\n",
        "plt.fill_between(x, -x+np.sin(x), x+np.sin(x), alpha=0.5)\n",
        "plt.hlines([-10, -11, -12], -10, 10)\n",
        "plt.xlabel('Ось X')\n",
        "plt.ylabel('Ось Y')\n",
        "plt.grid(ls=':')\n",
        "plt.show()"
      ]
    },
    {
      "cell_type": "markdown",
      "metadata": {
        "id": "j7U03-gUT1i4"
      },
      "source": [
        "Кроме графиков в двумерных координатах, `matplotlib` позволяет строить трёхмерные графики или поверхности."
      ]
    },
    {
      "cell_type": "code",
      "execution_count": null,
      "metadata": {
        "ExecuteTime": {
          "end_time": "2022-02-05T16:56:49.430149Z",
          "start_time": "2022-02-05T16:56:49.416449Z"
        },
        "id": "SshCuT-0UI4P"
      },
      "outputs": [],
      "source": [
        "X = 10\n",
        "N = 50\n",
        "u = np.linspace(-X, X, N)\n",
        "x, y = np.meshgrid(u, u)\n",
        "r = np.sqrt(x ** 2 + y ** 2)\n",
        "z = np.sin(r) / r"
      ]
    },
    {
      "cell_type": "code",
      "execution_count": null,
      "metadata": {
        "ExecuteTime": {
          "end_time": "2022-02-05T16:56:51.465363Z",
          "start_time": "2022-02-05T16:56:51.142269Z"
        },
        "colab": {
          "base_uri": "https://localhost:8080/",
          "height": 319
        },
        "id": "lt5yN_RvUClV",
        "outputId": "d872f9f5-5a9a-4b7b-9830-172d094f67dd"
      },
      "outputs": [
        {
          "data": {
            "image/png": "[encoded data removed]",
            "text/plain": [
              "<Figure size 432x288 with 1 Axes>"
            ]
          },
          "metadata": {
            "needs_background": "light"
          },
          "output_type": "display_data"
        }
      ],
      "source": [
        "fig = plt.figure()\n",
        "ax = Axes3D(fig)\n",
        "ax.plot_surface(x, y, z, rstride=1, cstride=1, cmap='gnuplot')\n",
        "plt.show()"
      ]
    },
    {
      "cell_type": "markdown",
      "metadata": {
        "id": "OKt4Bz3xUKyl"
      },
      "source": [
        "Чтобы посмотреть, как ещё можно настраивать графики в matplotlib, строить контурные графики и делать пиксельные картинки, можете перейти к <a href=\"https://mipt-stats.gitlab.io/courses/python/06_matplotlib.html\">полному материалу</a>."
      ]
    }
  ],
  "metadata": {
    "colab": {
      "collapsed_sections": [],
      "name": "python_digest.ipynb",
      "provenance": [],
      "toc_visible": true
    },
    "kernelspec": {
      "display_name": "Python 3",
      "language": "python",
      "name": "python3"
    },
    "language_info": {
      "codemirror_mode": {
        "name": "ipython",
        "version": 3
      },
      "file_extension": ".py",
      "mimetype": "text/x-python",
      "name": "python",
      "nbconvert_exporter": "python",
      "pygments_lexer": "ipython3",
      "version": "3.8.10"
    }
  },
  "nbformat": 4,
  "nbformat_minor": 0
}